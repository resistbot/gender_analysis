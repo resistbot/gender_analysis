{
 "cells": [
  {
   "cell_type": "code",
   "execution_count": 171,
   "metadata": {
    "collapsed": true,
    "deletable": true,
    "editable": true
   },
   "outputs": [],
   "source": [
    "import pandas as pd\n",
    "import numpy as np\n",
    "import os\n",
    "from bokeh.charts import Scatter, output_file, show, BoxPlot, Histogram\n",
    "from bokeh.sampledata.autompg import autompg as bdf\n",
    "from bokeh.charts import defaults\n",
    "from bokeh.palettes import brewer\n",
    "\n",
    "import matplotlib\n",
    "\n",
    "defaults.width = 700\n",
    "defaults.height = 600\n",
    "\n",
    "PROJECT_ROOT = os.path.dirname(os.path.abspath('__file__'))\n",
    "GENDER_DATA_PATH = os.path.join(PROJECT_ROOT,'all_users_gender_score.csv')"
   ]
  },
  {
   "cell_type": "code",
   "execution_count": 65,
   "metadata": {
    "collapsed": false,
    "deletable": true,
    "editable": true
   },
   "outputs": [],
   "source": [
    "df = pd.read_csv(GENDER_DATA_PATH)\n",
    "\n",
    "# drop NaN for no messages sent \n",
    "df.dropna(thresh=1)\n",
    "\n",
    "df = df[df.messages_sent.notnull()]"
   ]
  },
  {
   "cell_type": "code",
   "execution_count": 159,
   "metadata": {
    "collapsed": false,
    "deletable": true,
    "editable": true
   },
   "outputs": [
    {
     "name": "stdout",
     "output_type": "stream",
     "text": [
      "224044\n"
     ]
    },
    {
     "data": {
      "text/html": [
       "<div>\n",
       "<table border=\"1\" class=\"dataframe\">\n",
       "  <thead>\n",
       "    <tr style=\"text-align: right;\">\n",
       "      <th></th>\n",
       "      <th>id</th>\n",
       "      <th>messages_sent</th>\n",
       "      <th>msg_scored</th>\n",
       "    </tr>\n",
       "    <tr>\n",
       "      <th>gender</th>\n",
       "      <th></th>\n",
       "      <th></th>\n",
       "      <th></th>\n",
       "    </tr>\n",
       "  </thead>\n",
       "  <tbody>\n",
       "    <tr>\n",
       "      <th>F</th>\n",
       "      <td>118706</td>\n",
       "      <td>118706</td>\n",
       "      <td>92892</td>\n",
       "    </tr>\n",
       "    <tr>\n",
       "      <th>M</th>\n",
       "      <td>105338</td>\n",
       "      <td>105338</td>\n",
       "      <td>72034</td>\n",
       "    </tr>\n",
       "  </tbody>\n",
       "</table>\n",
       "</div>"
      ],
      "text/plain": [
       "            id  messages_sent  msg_scored\n",
       "gender                                   \n",
       "F       118706         118706       92892\n",
       "M       105338         105338       72034"
      ]
     },
     "execution_count": 159,
     "metadata": {},
     "output_type": "execute_result"
    }
   ],
   "source": [
    "all_users = df['gender'].count()\n",
    "print(all_users)\n",
    "grouped = df.groupby('gender')\n",
    "grouped.count()"
   ]
  },
  {
   "cell_type": "code",
   "execution_count": 55,
   "metadata": {
    "collapsed": false,
    "deletable": true,
    "editable": true
   },
   "outputs": [
    {
     "data": {
      "text/html": [
       "<div>\n",
       "<table border=\"1\" class=\"dataframe\">\n",
       "  <thead>\n",
       "    <tr style=\"text-align: right;\">\n",
       "      <th></th>\n",
       "      <th>messages_sent</th>\n",
       "      <th>msg_scored</th>\n",
       "    </tr>\n",
       "  </thead>\n",
       "  <tbody>\n",
       "    <tr>\n",
       "      <th>count</th>\n",
       "      <td>165103.000000</td>\n",
       "      <td>165103.000000</td>\n",
       "    </tr>\n",
       "    <tr>\n",
       "      <th>mean</th>\n",
       "      <td>9.061531</td>\n",
       "      <td>0.060929</td>\n",
       "    </tr>\n",
       "    <tr>\n",
       "      <th>std</th>\n",
       "      <td>14.986762</td>\n",
       "      <td>0.219751</td>\n",
       "    </tr>\n",
       "    <tr>\n",
       "      <th>min</th>\n",
       "      <td>0.000000</td>\n",
       "      <td>-1.000000</td>\n",
       "    </tr>\n",
       "    <tr>\n",
       "      <th>25%</th>\n",
       "      <td>2.000000</td>\n",
       "      <td>0.000000</td>\n",
       "    </tr>\n",
       "    <tr>\n",
       "      <th>50%</th>\n",
       "      <td>4.000000</td>\n",
       "      <td>0.000000</td>\n",
       "    </tr>\n",
       "    <tr>\n",
       "      <th>75%</th>\n",
       "      <td>11.000000</td>\n",
       "      <td>0.165516</td>\n",
       "    </tr>\n",
       "    <tr>\n",
       "      <th>max</th>\n",
       "      <td>1037.000000</td>\n",
       "      <td>1.000000</td>\n",
       "    </tr>\n",
       "  </tbody>\n",
       "</table>\n",
       "</div>"
      ],
      "text/plain": [
       "       messages_sent     msg_scored\n",
       "count  165103.000000  165103.000000\n",
       "mean        9.061531       0.060929\n",
       "std        14.986762       0.219751\n",
       "min         0.000000      -1.000000\n",
       "25%         2.000000       0.000000\n",
       "50%         4.000000       0.000000\n",
       "75%        11.000000       0.165516\n",
       "max      1037.000000       1.000000"
      ]
     },
     "execution_count": 55,
     "metadata": {},
     "output_type": "execute_result"
    }
   ],
   "source": [
    "#summary table for all users\n",
    "df.drop(['id'],axis=1).describe()"
   ]
  },
  {
   "cell_type": "code",
   "execution_count": 160,
   "metadata": {
    "collapsed": false,
    "deletable": true,
    "editable": true
   },
   "outputs": [
    {
     "data": {
      "text/html": [
       "<div>\n",
       "<table border=\"1\" class=\"dataframe\">\n",
       "  <thead>\n",
       "    <tr style=\"text-align: right;\">\n",
       "      <th></th>\n",
       "      <th></th>\n",
       "      <th>messages_sent</th>\n",
       "      <th>msg_scored</th>\n",
       "    </tr>\n",
       "    <tr>\n",
       "      <th>gender</th>\n",
       "      <th></th>\n",
       "      <th></th>\n",
       "      <th></th>\n",
       "    </tr>\n",
       "  </thead>\n",
       "  <tbody>\n",
       "    <tr>\n",
       "      <th rowspan=\"8\" valign=\"top\">F</th>\n",
       "      <th>count</th>\n",
       "      <td>118706.000000</td>\n",
       "      <td>92892.000000</td>\n",
       "    </tr>\n",
       "    <tr>\n",
       "      <th>mean</th>\n",
       "      <td>7.671769</td>\n",
       "      <td>0.061183</td>\n",
       "    </tr>\n",
       "    <tr>\n",
       "      <th>std</th>\n",
       "      <td>13.837930</td>\n",
       "      <td>0.220757</td>\n",
       "    </tr>\n",
       "    <tr>\n",
       "      <th>min</th>\n",
       "      <td>0.000000</td>\n",
       "      <td>-1.000000</td>\n",
       "    </tr>\n",
       "    <tr>\n",
       "      <th>25%</th>\n",
       "      <td>2.000000</td>\n",
       "      <td>0.000000</td>\n",
       "    </tr>\n",
       "    <tr>\n",
       "      <th>50%</th>\n",
       "      <td>2.000000</td>\n",
       "      <td>0.000000</td>\n",
       "    </tr>\n",
       "    <tr>\n",
       "      <th>75%</th>\n",
       "      <td>8.000000</td>\n",
       "      <td>0.166667</td>\n",
       "    </tr>\n",
       "    <tr>\n",
       "      <th>max</th>\n",
       "      <td>1037.000000</td>\n",
       "      <td>1.000000</td>\n",
       "    </tr>\n",
       "    <tr>\n",
       "      <th rowspan=\"8\" valign=\"top\">M</th>\n",
       "      <th>count</th>\n",
       "      <td>105338.000000</td>\n",
       "      <td>72034.000000</td>\n",
       "    </tr>\n",
       "    <tr>\n",
       "      <th>mean</th>\n",
       "      <td>6.177809</td>\n",
       "      <td>0.060629</td>\n",
       "    </tr>\n",
       "    <tr>\n",
       "      <th>std</th>\n",
       "      <td>12.928883</td>\n",
       "      <td>0.218442</td>\n",
       "    </tr>\n",
       "    <tr>\n",
       "      <th>min</th>\n",
       "      <td>0.000000</td>\n",
       "      <td>-1.000000</td>\n",
       "    </tr>\n",
       "    <tr>\n",
       "      <th>25%</th>\n",
       "      <td>0.000000</td>\n",
       "      <td>0.000000</td>\n",
       "    </tr>\n",
       "    <tr>\n",
       "      <th>50%</th>\n",
       "      <td>2.000000</td>\n",
       "      <td>0.000000</td>\n",
       "    </tr>\n",
       "    <tr>\n",
       "      <th>75%</th>\n",
       "      <td>6.000000</td>\n",
       "      <td>0.162500</td>\n",
       "    </tr>\n",
       "    <tr>\n",
       "      <th>max</th>\n",
       "      <td>771.000000</td>\n",
       "      <td>1.000000</td>\n",
       "    </tr>\n",
       "  </tbody>\n",
       "</table>\n",
       "</div>"
      ],
      "text/plain": [
       "              messages_sent    msg_scored\n",
       "gender                                   \n",
       "F      count  118706.000000  92892.000000\n",
       "       mean        7.671769      0.061183\n",
       "       std        13.837930      0.220757\n",
       "       min         0.000000     -1.000000\n",
       "       25%         2.000000      0.000000\n",
       "       50%         2.000000      0.000000\n",
       "       75%         8.000000      0.166667\n",
       "       max      1037.000000      1.000000\n",
       "M      count  105338.000000  72034.000000\n",
       "       mean        6.177809      0.060629\n",
       "       std        12.928883      0.218442\n",
       "       min         0.000000     -1.000000\n",
       "       25%         0.000000      0.000000\n",
       "       50%         2.000000      0.000000\n",
       "       75%         6.000000      0.162500\n",
       "       max       771.000000      1.000000"
      ]
     },
     "execution_count": 160,
     "metadata": {},
     "output_type": "execute_result"
    }
   ],
   "source": [
    "# summary table for female/male \n",
    "df.drop(['id'],axis=1).groupby(['gender'],as_index=True).describe()\n",
    "# df.drop(['id'],axis=1).groupby(['gender'],as_index=True).count()"
   ]
  },
  {
   "cell_type": "code",
   "execution_count": 170,
   "metadata": {
    "collapsed": false,
    "deletable": true,
    "editable": true
   },
   "outputs": [
    {
     "data": {
      "text/plain": [
       "gender\n",
       "F   -0.006383\n",
       "M    0.005992\n",
       "dtype: float64"
      ]
     },
     "execution_count": 170,
     "metadata": {},
     "output_type": "execute_result"
    }
   ],
   "source": [
    "#covariance by gender  \n",
    "grouped = df.groupby('gender')\n",
    "grouped.apply(lambda x: x['messages_sent'].cov(x['msg_scored']))"
   ]
  },
  {
   "cell_type": "code",
   "execution_count": null,
   "metadata": {
    "collapsed": true
   },
   "outputs": [],
   "source": []
  },
  {
   "cell_type": "code",
   "execution_count": 40,
   "metadata": {
    "collapsed": false,
    "deletable": true,
    "editable": true
   },
   "outputs": [
    {
     "data": {
      "text/plain": [
       "1495437.0"
      ]
     },
     "execution_count": 40,
     "metadata": {},
     "output_type": "execute_result"
    }
   ],
   "source": [
    "# total messages sent\n",
    "df['messages_sent'].sum()"
   ]
  },
  {
   "cell_type": "code",
   "execution_count": 43,
   "metadata": {
    "collapsed": false,
    "deletable": true,
    "editable": true
   },
   "outputs": [],
   "source": [
    "# plot message score box plot by gender \n",
    "palette = ['#000080', '#DAA520', '#D3D3D3']\n",
    "\n",
    "# drop NaN msg scored and no gender \n",
    "\n",
    "df = df[df.msg_scored.notnull()]\n",
    "df = df[df.gender.notnull()]\n",
    "p = BoxPlot(mdf, values='msg_scored', \n",
    "                label='gender', \n",
    "                outliers=False,\n",
    "                whisker_color='gender',\n",
    "                palette=palette,\n",
    "                title=\"Average Message Score (Excluding Outliers)\")\n",
    "\n",
    "output_file(\"templates/_boxplot_msg_score_by_gender.html\")\n",
    "show(p)"
   ]
  },
  {
   "cell_type": "code",
   "execution_count": 169,
   "metadata": {
    "collapsed": false,
    "deletable": true,
    "editable": true
   },
   "outputs": [],
   "source": [
    "#scatterplot sentiment score v number of messages sent \n",
    "palette = ['#000080', '#DAA520', '#D3D3D3']\n",
    "df.dropna(thresh=1)\n",
    "\n",
    "df = df[df.messages_sent < 500]\n",
    "\n",
    "p = Scatter(df, x='msg_scored', \n",
    "            y='messages_sent', \n",
    "            color='gender', \n",
    "            legend=\"top_left\",\n",
    "            legend_sort_field = 'color',\n",
    "            legend_sort_direction = 'ascending',\n",
    "            palette=palette, \n",
    "            title=\"Message Sentiment vs Total Number of Messages Sent for Users with <500 messages\",\n",
    "            xlabel=\"Avg Message Sentiment\", \n",
    "            ylabel=\"Total Number of Messages Sent\")\n",
    "output_file(\"templates/_scatterplot_messages_v_score_by_gender.html\")\n",
    "show(p)\n"
   ]
  },
  {
   "cell_type": "code",
   "execution_count": 164,
   "metadata": {
    "collapsed": false,
    "deletable": true,
    "editable": true
   },
   "outputs": [
    {
     "name": "stdout",
     "output_type": "stream",
     "text": [
      "<pandas.core.groupby.DataFrameGroupBy object at 0x10cbeebe0>\n"
     ]
    },
    {
     "data": {
      "text/plain": [
       "259927.0"
      ]
     },
     "execution_count": 164,
     "metadata": {},
     "output_type": "execute_result"
    }
   ],
   "source": [
    "# total messages sent per user by gender\n",
    "grouped = df.groupby('gender')\n",
    "print(grouped)\n",
    "total_messages = grouped['messages_sent'].sum()\n",
    "male_messages = data[1]\n",
    "female_messages = data[0]\n",
    "\n",
    "print(female_messages - male_messages)\n",
    "910685.0 - 650758.0"
   ]
  },
  {
   "cell_type": "code",
   "execution_count": 50,
   "metadata": {
    "collapsed": false,
    "deletable": true,
    "editable": true
   },
   "outputs": [],
   "source": [
    "from bokeh.charts import Bar, output_file, show\n",
    "from bokeh.models import NumeralTickFormatter\n",
    "\n",
    "\n",
    "p = Bar(df, 'gender', \n",
    "        values='messages_sent', \n",
    "        title=\"Total Messages Sent By Gender\", \n",
    "        color=\"goldenrod\", ylabel='Total Messages Sent by Gender', legend=False\n",
    "           )\n",
    "p.yaxis[0].formatter = NumeralTickFormatter(format=\"0,000\")\n",
    "\n",
    "output_file(\"templates/total_messages_by_gender_bar.html\")\n",
    "\n",
    "show(p)"
   ]
  },
  {
   "cell_type": "code",
   "execution_count": 75,
   "metadata": {
    "collapsed": false,
    "deletable": true,
    "editable": true
   },
   "outputs": [
    {
     "name": "stdout",
     "output_type": "stream",
     "text": [
      "id               0.470167\n",
      "gender           0.470167\n",
      "messages_sent    0.470167\n",
      "msg_scored       0.321517\n",
      "dtype: float64 id               0.529833\n",
      "gender           0.529833\n",
      "messages_sent    0.529833\n",
      "msg_scored       0.414615\n",
      "dtype: float64\n"
     ]
    }
   ],
   "source": [
    "all_users = df['gender'].count()\n",
    "grouped = df.groupby('gender')\n",
    "female_users = grouped.get_group('M').count()/all_users \n",
    "male_users = grouped.get_group('F').count()/all_users \n",
    "print(female_users,male_users)"
   ]
  },
  {
   "cell_type": "code",
   "execution_count": 172,
   "metadata": {
    "collapsed": true
   },
   "outputs": [],
   "source": []
  },
  {
   "cell_type": "code",
   "execution_count": 158,
   "metadata": {
    "collapsed": false,
    "deletable": true,
    "editable": true
   },
   "outputs": [
    {
     "name": "stdout",
     "output_type": "stream",
     "text": [
      "118706 105338\n"
     ]
    }
   ],
   "source": [
    "from bokeh.charts import Donut, show\n",
    "import pandas as pd\n",
    "palette = ['lightblue', '#DAA520']\n",
    "\n",
    "grouped = df.groupby('gender')\n",
    "female_users = grouped.get_group('F').count()['gender']\n",
    "male_users = grouped.get_group('M').count()['gender']\n",
    "\n",
    "data = pd.Series([female_users,male_users], index =['Female: 53%','Male: 47%'])\n",
    "output_file(\"templates/_gender_breakdown.html\")\n",
    "pie_chart = Donut(data,title='Number of Users: Male v Female',color=palette,legend=True)\n",
    "show(pie_chart)"
   ]
  },
  {
   "cell_type": "code",
   "execution_count": null,
   "metadata": {
    "collapsed": true,
    "deletable": true,
    "editable": true
   },
   "outputs": [],
   "source": []
  }
 ],
 "metadata": {
  "kernelspec": {
   "display_name": "Python Resist Data)",
   "language": "python",
   "name": "resistdata"
  },
  "language_info": {
   "codemirror_mode": {
    "name": "ipython",
    "version": 3
   },
   "file_extension": ".py",
   "mimetype": "text/x-python",
   "name": "python",
   "nbconvert_exporter": "python",
   "pygments_lexer": "ipython3",
   "version": "3.5.3"
  }
 },
 "nbformat": 4,
 "nbformat_minor": 2
}
